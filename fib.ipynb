{
 "cells": [
  {
   "cell_type": "markdown",
   "metadata": {},
   "source": [
    "# Fibonacci Sequence\n",
    "\n",
    "***"
   ]
  },
  {
   "cell_type": "markdown",
   "metadata": {},
   "source": [
    "**Disclaimer:** I used ChatGPT to generate ideas and sketches of the content of the following notebook. The notebook is mainly my own work, as ChatGPT sometimes suggested clearly incorrect ideas and in any case I had to re-work the code and text it generated to meet my own needs."
   ]
  },
  {
   "cell_type": "markdown",
   "metadata": {},
   "source": [
    "Below is [WikiPedia's explanation of the Fibonacci sequence](https://en.wikipedia.org/wiki/Fibonacci_sequence#Definition).\n",
    "\n",
    "The Fibonacci numbers may be defined by the recurrence relation:\n",
    "\n",
    "$F_0 = 0, F_1 = 1, F_n = F_{n-1}+F_{n-2}$\n",
    "\n",
    "The sequence is then:\n",
    "\n",
    "0, 1, 1, 2, 3, 5, 8, 13, 21, 34, 55, 89, 144,..."
   ]
  },
  {
   "cell_type": "markdown",
   "metadata": {},
   "source": [
    "Below is ChatGPT's explanation of the Fibonacci Sequence."
   ]
  },
  {
   "cell_type": "markdown",
   "metadata": {},
   "source": [
    "The Fibonacci sequence is a series of numbers where each number is the sum of the two preceding ones, usually starting with 0 and 1. So, the sequence begins `0, 1, 1, 2, 3, 5, 8, 13, 21, 34`, and so on. Mathematically, it can be defined by the recurrence relation:\n",
    "\n",
    "\\[F(n) = F(n-1) + F(n-2)\\]\n",
    "\n",
    "where \\(F(n)\\) represents the \\(n\\)th term in the sequence.\n"
   ]
  },
  {
   "cell_type": "markdown",
   "metadata": {},
   "source": [
    "1. Start with two numbers: 0 and 1.\n",
    "2. Each subsequent number in the sequence is the sum of the two preceding numbers.\n",
    "3. So, the third number is \\(0 + 1 = 1\\).\n",
    "4. The fourth number is \\(1 + 1 = 2\\).\n",
    "5. The fifth number is \\(1 + 2 = 3\\).\n",
    "6. And so on, continuing this pattern indefinitely.\n",
    "\n"
   ]
  },
  {
   "cell_type": "markdown",
   "metadata": {},
   "source": [
    "The Fibonacci sequence is pervasive in nature, appearing in patterns of leaves, branching in trees, the arrangement of seeds in flower heads, the spiral of galaxies, and even in the proportions of the human body. It's also encountered in various areas of mathematics, including number theory, combinatorics, and algebra."
   ]
  },
  {
   "cell_type": "markdown",
   "metadata": {},
   "source": [
    "## Generating the nth Fibonacci Number:\n",
    "\n",
    "***"
   ]
  },
  {
   "cell_type": "markdown",
   "metadata": {},
   "source": [
    "A good resource for figuring out how to style Python colde is [PEP8](https://peps.python.org/pep-0008/).\n",
    "\n",
    "You might also look at [Google's official style for Python](https://google.github.io/styleguide/pyguide.html)."
   ]
  },
  {
   "cell_type": "code",
   "execution_count": 2,
   "metadata": {},
   "outputs": [],
   "source": [
    "def fib(n):\n",
    "    if n == 0:\n",
    "        return 0\n",
    "    elif n == 1:\n",
    "        return 1\n",
    "    else:\n",
    "        return fib(n-1) + fib(n-2)"
   ]
  },
  {
   "cell_type": "markdown",
   "metadata": {},
   "source": [
    "***\n",
    "\n",
    "## End"
   ]
  }
 ],
 "metadata": {
  "kernelspec": {
   "display_name": "base",
   "language": "python",
   "name": "python3"
  },
  "language_info": {
   "codemirror_mode": {
    "name": "ipython",
    "version": 3
   },
   "file_extension": ".py",
   "mimetype": "text/x-python",
   "name": "python",
   "nbconvert_exporter": "python",
   "pygments_lexer": "ipython3",
   "version": "3.11.5"
  }
 },
 "nbformat": 4,
 "nbformat_minor": 2
}
